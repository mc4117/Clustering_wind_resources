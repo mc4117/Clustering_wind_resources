{
 "cells": [
  {
   "cell_type": "code",
   "execution_count": null,
   "metadata": {},
   "outputs": [],
   "source": [
    "# Example notebook to post-process and combine WRF results for wind farm power outputs\n",
    "\n",
    "# The example shown is for power output in a wind farm in the small Denmark domain"
   ]
  },
  {
   "cell_type": "code",
   "execution_count": 1,
   "metadata": {},
   "outputs": [],
   "source": [
    "# import necessary packages\n",
    "\n",
    "import pandas as pd\n",
    "import numpy as np\n",
    "import glob\n",
    "import pylab as plt\n",
    "import random"
   ]
  },
  {
   "cell_type": "code",
   "execution_count": 2,
   "metadata": {},
   "outputs": [],
   "source": [
    "# read in norm of initial wind velocity at future location of hypothetical wind farm\n",
    "df_vel_norm = pd.read_csv('vel_avg_norm.csv')\n",
    "\n",
    "# read in arbitrary file to get location of wind farm array\n",
    "farm_array = np.load(\"/rds/general/project/wrfwindpower/live/wrf_results_square/fixed_farm/200701_01/power.npy\")"
   ]
  },
  {
   "cell_type": "code",
   "execution_count": 23,
   "metadata": {},
   "outputs": [],
   "source": [
    "# read in theoretical power curve of wind turbines used\n",
    "\n",
    "from scipy.interpolate import interp1d\n",
    "f = open('power_curve.txt').read()\n",
    "power_file = [line.split(' ') for line in f.split('\\n')]\n",
    "vel_txt = [0]\n",
    "for i in power_file[:-1]:\n",
    "    vel_txt.append(float(i[0]))\n",
    "for _ in range(10):\n",
    "    vel_txt.append(vel_txt[-1]+1)\n",
    "power_txt = [0]\n",
    "for i in power_file[:-1]:\n",
    "    power_txt.append(float(i[2]))\n",
    "for _ in range(10):\n",
    "    power_txt.append(power_txt[-1])\n",
    "power_curve = interp1d(vel_txt, [i*1000 for i in power_txt])\n",
    "\n",
    "power_curve_power = power_curve(df_vel_norm['norm_vel']).sum()*136"
   ]
  },
  {
   "cell_type": "code",
   "execution_count": 4,
   "metadata": {},
   "outputs": [],
   "source": [
    "# read in outputs from WRF simulations for whole of 2007 - this is what we use as the truth\n",
    "\n",
    "fname_fixed_list = []\n",
    "power_fixed_list = []\n",
    "\n",
    "path = \"/rds/general/project/wrfwindpower/live/wrf_results_square/fixed_farm/*/\"\n",
    "\n",
    "path_txt = str(path) + '/power.npy'\n",
    "for fname in glob.glob(path_txt):\n",
    "    fname_fixed_list.append(fname)\n",
    "\n",
    "fname_fixed_list.sort()\n",
    "\n",
    "for i in fname_fixed_list:\n",
    "    power_fixed_list.append(np.load(i))\n"
   ]
  },
  {
   "cell_type": "code",
   "execution_count": 6,
   "metadata": {},
   "outputs": [
    {
     "name": "stderr",
     "output_type": "stream",
     "text": [
      "/apps/jupyterhub/2019-04-29/miniconda/lib/python3.6/site-packages/ipykernel_launcher.py:20: RuntimeWarning: invalid value encountered in arccos\n",
      "/apps/jupyterhub/2019-04-29/miniconda/lib/python3.6/site-packages/ipykernel_launcher.py:22: RuntimeWarning: invalid value encountered in arccos\n",
      "/apps/jupyterhub/2019-04-29/miniconda/lib/python3.6/site-packages/ipykernel_launcher.py:24: RuntimeWarning: invalid value encountered in arccos\n"
     ]
    }
   ],
   "source": [
    "# load in WRF outputs for the closest datapoints to the cluster centres for cluster found by clustering\n",
    "# on wind velocity on Europe-wide domain\n",
    "\n",
    "def load_file(folder_init, file_init):\n",
    "    folder = '/rds/general/project/wrfwindpower/live/' + folder_init\n",
    "    cluster_0 = np.load(folder + '_0/' + file_init + '.npy')\n",
    "    cluster_1 = np.load(folder + '_1/' + file_init + '.npy')\n",
    "    cluster_2 = np.load(folder + '_2/' + file_init + '.npy')\n",
    "    cluster_3 = np.load(folder + '_3/' + file_init + '.npy')\n",
    "    cluster_4 = np.load(folder + '_4/' + file_init + '.npy')\n",
    "    cluster_5 = np.load(folder + '_5/' + file_init + '.npy')\n",
    "    \n",
    "    return cluster_0, cluster_1, cluster_2, cluster_3, cluster_4, cluster_5\n",
    "\n",
    "power_cluster_0_wind_d01, power_cluster_1_wind_d01, power_cluster_2_wind_d01,\\\n",
    "    power_cluster_3_wind_d01, power_cluster_4_wind_d01, power_cluster_5_wind_d01 = load_file('wrf_results_wind_d01/fixed_sq_farm', 'power')\n",
    "\n",
    "u1_cluster_0_wind_d01, u1_cluster_1_wind_d01, u1_cluster_2_wind_d01,\\\n",
    "    u1_cluster_3_wind_d01, u1_cluster_4_wind_d01, u1_cluster_5_wind_d01 = load_file('wrf_results_wind_d01/fixed_sq_farm', 'u')\n",
    "\n",
    "u2_cluster_0_wind_d01, u2_cluster_1_wind_d01, u2_cluster_2_wind_d01,\\\n",
    "    u2_cluster_3_wind_d01, u2_cluster_4_wind_d01, u2_cluster_5_wind_d01 = load_file('wrf_results_wind_d01/fixed_sq_farm', 'v')\n",
    "\n",
    "# estimate the norm of the velocity at the location of the wind farm\n",
    "norm_vel_0_wind_d01 = np.sqrt((u1_cluster_0_wind_d01[0, 11, :, :72])**2 + (u2_cluster_0_wind_d01[0, 11, :153, :])**2)[farm_array[-1]!=0].mean()\n",
    "norm_vel_1_wind_d01 = np.sqrt((u1_cluster_1_wind_d01[0, 11, :, :72])**2 + (u2_cluster_1_wind_d01[0, 11, :153, :])**2)[farm_array[-1]!=0].mean()\n",
    "norm_vel_2_wind_d01 = np.sqrt((u1_cluster_2_wind_d01[0, 11, :, :72])**2 + (u2_cluster_2_wind_d01[0, 11, :153, :])**2)[farm_array[-1]!=0].mean()\n",
    "norm_vel_3_wind_d01 = np.sqrt((u1_cluster_3_wind_d01[0, 11, :, :72])**2 + (u2_cluster_3_wind_d01[0, 11, :153, :])**2)[farm_array[-1]!=0].mean()\n",
    "norm_vel_4_wind_d01 = np.sqrt((u1_cluster_4_wind_d01[0, 11, :, :72])**2 + (u2_cluster_4_wind_d01[0, 11, :153, :])**2)[farm_array[-1]!=0].mean()\n",
    "norm_vel_5_wind_d01 = np.sqrt((u1_cluster_5_wind_d01[0, 11, :, :72])**2 + (u2_cluster_5_wind_d01[0, 11, :153, :])**2)[farm_array[-1]!=0].mean()"
   ]
  },
  {
   "cell_type": "code",
   "execution_count": null,
   "metadata": {},
   "outputs": [],
   "source": [
    "# split real power values for each day in 2007 by regime\n",
    "df_wind_d01 = pd.read_csv('labels_all_6_wind_d01.csv')\n",
    "df_2007_wind_d01 = df_wind_d01[df_wind_d01['Year'] == 2007].reset_index(drop = True)\n",
    "\n",
    "final_fixed_power = [i[-1].sum() for i in power_fixed_list]\n",
    "\n",
    "combined_wind_d01 = pd.concat([df_2007_wind_d01, df_vel_norm], join = 'inner', axis = 1)\n",
    "\n",
    "reg_fixed_power_wind_d01 = pd.concat([combined_wind_d01[['Regime', 'norm_vel']], pd.DataFrame(final_fixed_power)], axis = 1)\n",
    "\n",
    "reg_fixed_power_0_wind_d01 = reg_fixed_power_wind_d01[reg_fixed_power_wind_d01['Regime'] == 0].reset_index(drop = True)\n",
    "reg_fixed_power_1_wind_d01 = reg_fixed_power_wind_d01[reg_fixed_power_wind_d01['Regime'] == 1].reset_index(drop = True)\n",
    "reg_fixed_power_2_wind_d01 = reg_fixed_power_wind_d01[reg_fixed_power_wind_d01['Regime'] == 2].reset_index(drop = True)\n",
    "reg_fixed_power_3_wind_d01 = reg_fixed_power_wind_d01[reg_fixed_power_wind_d01['Regime'] == 3].reset_index(drop = True)\n",
    "reg_fixed_power_4_wind_d01 = reg_fixed_power_wind_d01[reg_fixed_power_wind_d01['Regime'] == 4].reset_index(drop = True)\n",
    "reg_fixed_power_5_wind_d01 = reg_fixed_power_wind_d01[reg_fixed_power_wind_d01['Regime'] == 5].reset_index(drop = True)"
   ]
  },
  {
   "cell_type": "code",
   "execution_count": null,
   "metadata": {},
   "outputs": [],
   "source": [
    "## Compare the power predictions for each different method assessed in the paper\n",
    "\n",
    "# WRF is used as the real value, and then we have three separate methods of combining a reduced number \n",
    "# of WRF runs\n",
    "\n",
    "# Here we show the power predictions in the Denmark domain for the clusters obtained by clustering wind velocity \n",
    "# on the Europe-wide domain but the code would be the same for the other domains\n",
    "\n",
    "# The plot in the paper is slightly different as it combines all the results from the different clusters for each domain"
   ]
  },
  {
   "cell_type": "code",
   "execution_count": 11,
   "metadata": {},
   "outputs": [
    {
     "name": "stdout",
     "output_type": "stream",
     "text": [
      "92995407243.39062\n",
      "83077128877.33334\n",
      "91764363366.70206\n",
      "102165465519.0\n"
     ]
    },
    {
     "data": {
      "image/png": "[encoded data removed]",
      "text/plain": [
       "<Figure size 432x288 with 1 Axes>"
      ]
     },
     "metadata": {
      "needs_background": "light"
     },
     "output_type": "display_data"
    }
   ],
   "source": [
    "# Calculate power prediction from selecting 6 datapoints from the dataset randomly\n",
    "# This is done 20 times and then averaged, and is used to show the results that could be obtained\n",
    "# if datapoints were picked randomly instead of found using a robust clustering approach\n",
    "\n",
    "\n",
    "avg_fixed_power = []\n",
    "for i in range(int(np.floor(20))):\n",
    "    avg_fixed_power.append(np.sum([final_fixed_power[i] for i in [random.randint(0, 364) for _ in range(6)]])*365/6)\n",
    "    \n",
    "plt.hist(avg_fixed_power, label = 'Random')\n",
    "\n",
    "# Calculate the real power output for every datapoint in 2007\n",
    "plt.plot([reg_fixed_power_wind_d01[0].sum() for _ in range(16)], [i for i in range(16)], label = 'WRF')\n",
    "print(reg_fixed_power[0].sum())\n",
    "print(np.mean(avg_fixed_power))\n",
    "\n",
    "# Calculate power prediction using the more complex weighted approach\n",
    "power_0_factor_wind_d01 = power_cluster_0_wind_d01[-1].sum()*reg_fixed_power_0_wind_d01['norm_vel']/norm_vel_0_wind_d01\n",
    "power_0_factor_wind_d01[power_0_factor_wind_d01 > reg_fixed_power[0].max()] = reg_fixed_power[0].max()\n",
    "power_1_factor_wind_d01 = power_cluster_1_wind_d01[-1].sum()*reg_fixed_power_1_wind_d01['norm_vel']/norm_vel_1_wind_d01\n",
    "power_1_factor_wind_d01[power_1_factor_wind_d01 > reg_fixed_power[0].max()] = reg_fixed_power[0].max()\n",
    "power_2_factor_wind_d01 = power_cluster_2_wind_d01[-1].sum()*reg_fixed_power_2_wind_d01['norm_vel']/norm_vel_2_wind_d01\n",
    "power_2_factor_wind_d01[power_2_factor_wind_d01 > reg_fixed_power[0].max()] = reg_fixed_power[0].max()\n",
    "power_3_factor_wind_d01 = power_cluster_3_wind_d01[-1].sum()*reg_fixed_power_3_wind_d01['norm_vel']/norm_vel_3_wind_d01\n",
    "power_3_factor_wind_d01[power_3_factor_wind_d01 > reg_fixed_power[0].max()] = reg_fixed_power[0].max()\n",
    "power_4_factor_wind_d01 = power_cluster_4_wind_d01[-1].sum()*reg_fixed_power_4_wind_d01['norm_vel']/norm_vel_4_wind_d01\n",
    "power_4_factor_wind_d01[power_4_factor_wind_d01 > reg_fixed_power[0].max()] = reg_fixed_power[0].max()\n",
    "power_5_factor_wind_d01 = power_cluster_5_wind_d01[-1].sum()*reg_fixed_power_5_wind_d01['norm_vel']/norm_vel_5_wind_d01\n",
    "power_5_factor_wind_d01[power_5_factor_wind_d01 > reg_fixed_power[0].max()] = reg_fixed_power[0].max()\n",
    "\n",
    "fix_power_sum_wind_d01 = 0\n",
    "fix_power_sum_wind_d01 += power_0_factor_wind_d01.sum()\n",
    "fix_power_sum_wind_d01 += power_1_factor_wind_d01.sum()\n",
    "fix_power_sum_wind_d01 += power_2_factor_wind_d01.sum()\n",
    "fix_power_sum_wind_d01 += power_3_factor_wind_d01.sum()\n",
    "fix_power_sum_wind_d01 += power_4_factor_wind_d01.sum()\n",
    "fix_power_sum_wind_d01 += power_5_factor_wind_d01.sum()\n",
    "\n",
    "print(fix_power_sum_wind_d01)\n",
    "\n",
    "plt.plot([fix_power_sum_wind_d01 for _ in range(16)], [i for i in range(16)], label = 'Cluster weighted average')\n",
    "\n",
    "# Calculate the power output from using the simple averaged approach\n",
    "fix_power_sum_wind_d01_simple = 0\n",
    "fix_power_sum_wind_d01_simple += power_cluster_0_wind_d01[-1].sum()*len(reg_fixed_power_0_wind_d01)\n",
    "fix_power_sum_wind_d01_simple += power_cluster_1_wind_d01[-1].sum()*len(reg_fixed_power_1_wind_d01)\n",
    "fix_power_sum_wind_d01_simple += power_cluster_2_wind_d01[-1].sum()*len(reg_fixed_power_2_wind_d01)\n",
    "fix_power_sum_wind_d01_simple += power_cluster_3_wind_d01[-1].sum()*len(reg_fixed_power_3_wind_d01)\n",
    "fix_power_sum_wind_d01_simple += power_cluster_4_wind_d01[-1].sum()*len(reg_fixed_power_4_wind_d01)\n",
    "fix_power_sum_wind_d01_simple += power_cluster_5_wind_d01[-1].sum()*len(reg_fixed_power_5_wind_d01)\n",
    "\n",
    "print(fix_power_sum_wind_d01_simple)\n",
    "\n",
    "plt.plot([fix_power_sum_wind_d01_simple for _ in range(16)], [i for i in range(16)], label = 'Cluster simple average')\n",
    "plt.ylim([0, 6])\n",
    "plt.xlabel('Power (W)')\n",
    "plt.ylabel('Frequency')\n",
    "plt.legend()\n",
    "plt.show()"
   ]
  }
 ],
 "metadata": {
  "kernelspec": {
   "display_name": "Python 3",
   "language": "python",
   "name": "python3"
  },
  "language_info": {
   "codemirror_mode": {
    "name": "ipython",
    "version": 3
   },
   "file_extension": ".py",
   "mimetype": "text/x-python",
   "name": "python",
   "nbconvert_exporter": "python",
   "pygments_lexer": "ipython3",
   "version": "3.6.8"
  }
 },
 "nbformat": 4,
 "nbformat_minor": 2
}
